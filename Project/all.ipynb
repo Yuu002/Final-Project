{
  "cells": [
    {
      "cell_type": "code",
      "execution_count": 1,
      "metadata": {
        "colab": {
          "base_uri": "https://localhost:8080/"
        },
        "id": "dOo8EOe_cwyY",
        "outputId": "53efcb6f-eebc-47f8-bdc4-952355401c67"
      },
      "outputs": [
        {
          "name": "stdout",
          "output_type": "stream",
          "text": [
            "    NDVI  TNDVI     SR   SAVI  MSAVI2        AGB\n",
            "0 -0.072  0.654  0.866 -0.108  -0.154   7.158685\n",
            "1 -0.072  0.654  0.866 -0.108  -0.154  12.112405\n",
            "2 -0.056  0.666  0.894 -0.084  -0.118  21.010835\n",
            "3 -0.048  0.672  0.908 -0.072  -0.101  24.553987\n",
            "4 -0.041  0.678  0.922 -0.061  -0.084  25.799105\n"
          ]
        }
      ],
      "source": [
        "# load_data.py\n",
        "import pandas as pd\n",
        "\n",
        "def load_dataset(file_path):\n",
        "    df = pd.read_excel(file_path)\n",
        "    return df\n",
        "\n",
        "if __name__ == \"__main__\":\n",
        "    df = load_dataset(\"AGB_Data.xlsx\")\n",
        "    print(df.head())"
      ]
    },
    {
      "cell_type": "code",
      "execution_count": 2,
      "metadata": {
        "colab": {
          "base_uri": "https://localhost:8080/"
        },
        "id": "VlTdwkRHc2fo",
        "outputId": "c4dcf477-fc92-4bf3-e31c-64bf2297c2e0"
      },
      "outputs": [
        {
          "name": "stdout",
          "output_type": "stream",
          "text": [
            "train: 50 test: 5\n"
          ]
        }
      ],
      "source": [
        "from sklearn.model_selection import train_test_split\n",
        "\n",
        "# Define features (X) and target (y)\n",
        "X = df.drop('AGB', axis=1)\n",
        "y = df['AGB']\n",
        "\n",
        "# Split data into training and testing sets\n",
        "X_train, X_test, y_train, y_test = train_test_split(X, y, test_size=5/55, random_state=42)\n",
        "\n",
        "print(f\"train: {X_train.shape[0]} test: {X_test.shape[0]}\")"
      ]
    },
    {
      "cell_type": "code",
      "execution_count": 3,
      "metadata": {
        "colab": {
          "base_uri": "https://localhost:8080/"
        },
        "id": "-XcfZsGWcrzQ",
        "outputId": "c35f0f81-077e-4860-a0c0-8e060f7e4743"
      },
      "outputs": [
        {
          "name": "stdout",
          "output_type": "stream",
          "text": [
            "SVM (RBF Kernel) -> R²: 0.8984, RMSE: 4.5985\n"
          ]
        }
      ],
      "source": [
        "from sklearn.svm import SVR\n",
        "from sklearn.metrics import mean_squared_error, r2_score\n",
        "import matplotlib.pyplot as plt\n",
        "import numpy as np # Import numpy for sqrt\n",
        "\n",
        "# X_train, X_test, y_train, y_test = prepare_data(\"AGB_Data.xlsx\")\n",
        "\n",
        "model = SVR(kernel='rbf', C=100, gamma=0.1, epsilon=0.1)\n",
        "model.fit(X_train, y_train)\n",
        "y_pred_svr = model.predict(X_test)\n",
        "\n",
        "# Fix: Calculate RMSE by taking the square root of MSE instead of using squared=False\n",
        "mse = mean_squared_error(y_test, y_pred_svr)\n",
        "rmse = np.sqrt(mse)\n",
        "r2 = r2_score(y_test, y_pred_svr)\n",
        "\n",
        "print(f\"SVM (RBF Kernel) -> R²: {r2:.4f}, RMSE: {rmse:.4f}\")"
      ]
    },
    {
      "cell_type": "code",
      "execution_count": 4,
      "metadata": {
        "id": "oXHD_nAYc9kQ"
      },
      "outputs": [],
      "source": [
        "import joblib\n",
        "joblib.dump(model, \"svr_agb_model.pkl\")\n",
        "loaded_model = joblib.load(\"svr_agb_model.pkl\")\n",
        "y_pred_loaded = loaded_model.predict(X_test)"
      ]
    },
    {
      "cell_type": "code",
      "execution_count": 5,
      "metadata": {
        "id": "SJ5okxlyhpFv"
      },
      "outputs": [],
      "source": [
        "image = \"IMAGERY.TIF\""
      ]
    },
    {
      "cell_type": "code",
      "execution_count": 6,
      "metadata": {
        "colab": {
          "base_uri": "https://localhost:8080/"
        },
        "id": "_3dkCrO8haBO",
        "outputId": "cea941b8-1a6d-40f4-e0ce-2b5e61518051"
      },
      "outputs": [
        {
          "name": "stdout",
          "output_type": "stream",
          "text": [
            "CRS: EPSG:32647\n",
            "Bounds: BoundingBox(left=475129.5290357446, bottom=1932627.81524834, right=586939.5290357446, top=2031777.81524834)\n"
          ]
        }
      ],
      "source": [
        "import rasterio\n",
        "\n",
        "with rasterio.open(image) as src:\n",
        "   print(\"CRS:\", src.crs)            # ระบบพิกัดที่ไฟล์ใช้\n",
        "   print(\"Bounds:\", src.bounds)      # ขอบเขตพื้นที่ raster (ในหน่วย CRS)"
      ]
    },
    {
      "cell_type": "code",
      "execution_count": 7,
      "metadata": {
        "colab": {
          "base_uri": "https://localhost:8080/"
        },
        "id": "uiSMJLthh7P2",
        "outputId": "893c1d8c-ff7b-480b-9806-b6d752eab255"
      },
      "outputs": [
        {
          "name": "stdout",
          "output_type": "stream",
          "text": [
            "CRS Coordinates: 533663.04412683 2002718.7692851895\n",
            "Pixel row,col: 1937 3902\n"
          ]
        }
      ],
      "source": [
        "from pyproj import Transformer\n",
        "\n",
        "lat, lon = 18.11302, 99.31819  # พิกัดผู้ใช้ (WGS84)\n",
        "with rasterio.open(image) as src:\n",
        "   raster_crs = src.crs  # EPSG:32647\n",
        "   # แปลง WGS84 → CRS ของ raster\n",
        "   transformer = Transformer.from_crs(\"EPSG:4326\", raster_crs, always_xy=True)\n",
        "   x, y = transformer.transform(lon, lat)\n",
        "   # แปลง x,y → row, col\n",
        "   row, col = src.index(x, y)\n",
        "   print(\"CRS Coordinates:\", x, y)\n",
        "   print(\"Pixel row,col:\", row, col)"
      ]
    },
    {
      "cell_type": "code",
      "execution_count": 8,
      "metadata": {
        "colab": {
          "base_uri": "https://localhost:8080/"
        },
        "id": "XXVEeRVNjOsF",
        "outputId": "29d5755e-bf4e-4b5b-bcdc-806ba5c153d9"
      },
      "outputs": [
        {
          "name": "stdout",
          "output_type": "stream",
          "text": [
            "CRS Coordinates: 533663.04412683 2002718.7692851895\n",
            "Pixel row,col: 1937 3902\n",
            "Raw bands: [55 60 67 74]\n",
            "NDVI=0.147, TNDVI=0.805, SR=1.345, SAVI=0.220, MSAVI2=71.625\n",
            "Predicted AGB=33.299\n",
            "{'coordinate': {'lat': 18.11302, 'lon': 99.31819}, 'pixel': {'row': 1937, 'col': 3902, 'R': 55, 'G': 60, 'B': 67, 'NIR': 74}, 'indices': {'NDVI': 0.14728682056366807, 'TNDVI': 0.8045413728104155, 'SR': 1.3454545209917361, 'SAVI': 0.2200772183777821, 'MSAVI2': 71.625}, 'AGB': 33.29895154537698}\n"
          ]
        },
        {
          "name": "stderr",
          "output_type": "stream",
          "text": [
            "c:\\Users\\Acer\\AppData\\Local\\Programs\\Python\\Python313\\Lib\\site-packages\\sklearn\\utils\\validation.py:2749: UserWarning: X does not have valid feature names, but SVR was fitted with feature names\n",
            "  warnings.warn(\n"
          ]
        }
      ],
      "source": [
        "import rasterio\n",
        "\n",
        "# ---- Load ML model ----\n",
        "model = joblib.load(\"svr_agb_model.pkl\")\n",
        "# ---- Load raster ----\n",
        "raster_path = image\n",
        "src = rasterio.open(raster_path)\n",
        "raster_crs = src.crs\n",
        "# ---- CRS transformer: WGS84 -> raster CRS ----\n",
        "transformer = Transformer.from_crs(\"EPSG:4326\", raster_crs, always_xy=True)\n",
        "# ---- Constants for indices ----\n",
        "L = 0.5\n",
        "# ---- พิกัดตัวอย่างจากผู้ใช้ ----\n",
        "lat, lon = 18.11302, 99.31819\n",
        "# ---- Transform lat/lon -> raster CRS ----\n",
        "x, y = transformer.transform(lon, lat)\n",
        "print(f\"CRS Coordinates: {x} {y}\")\n",
        "# ---- Transform CRS -> pixel row/col ----\n",
        "row, col = src.index(x, y)\n",
        "print(f\"Pixel row,col: {row} {col}\")\n",
        "# ---- ตรวจ bounds ----\n",
        "if not (0 <= row < src.height and 0 <= col < src.width):\n",
        "   raise ValueError(\"Coordinate is outside the raster bounds!\")\n",
        "# ---- Read pixel values ----\n",
        "pixel = src.read()[:, row, col]  # [R,G,B,NIR]\n",
        "R, G, B, NIR = pixel\n",
        "print(\"Raw bands:\", pixel)\n",
        "# ---- Compute indices ----\n",
        "ndvi   = (NIR - R) / (NIR + R + 1e-6)\n",
        "tndvi  = np.sqrt((NIR - R) / (NIR + R + 1e-6) + L)\n",
        "sr     = NIR / (R + 1e-6)\n",
        "savi   = ((1 + L) * (NIR - R)) / (NIR + R + L + 1e-6)\n",
        "msavi2 = (2 * NIR + 1 - np.sqrt((2 * NIR + 1)**2 - 8 * (NIR - R))) / 2\n",
        "print(f\"NDVI={ndvi:.3f}, TNDVI={tndvi:.3f}, SR={sr:.3f}, SAVI={savi:.3f}, MSAVI2={msavi2:.3f}\")\n",
        "# ---- Prepare feature vector สำหรับ ML ----\n",
        "# ใช้เฉพาะ indices 5 ตัว ตามที่ train model\n",
        "X = np.array([ndvi, tndvi, sr, savi, msavi2]).reshape(1, -1)\n",
        "# ---- Predict AGB ----\n",
        "agb_pred = model.predict(X)[0]\n",
        "print(f\"Predicted AGB={agb_pred:.3f}\")\n",
        "# ---- ตัวอย่าง JSON สำหรับส่ง frontend ----\n",
        "result = {\n",
        "   \"coordinate\": {\"lat\": lat, \"lon\": lon},\n",
        "   \"pixel\": {\"row\": int(row), \"col\": int(col), \"R\": int(R), \"G\": int(G), \"B\": int(B), \"NIR\": int(NIR)},\n",
        "   \"indices\": {\"NDVI\": float(ndvi), \"TNDVI\": float(tndvi), \"SR\": float(sr), \"SAVI\": float(savi), \"MSAVI2\": float(msavi2)},\n",
        "   \"AGB\": float(agb_pred)\n",
        "}\n",
        "print(result)"
      ]
    }
  ],
  "metadata": {
    "colab": {
      "provenance": []
    },
    "kernelspec": {
      "display_name": "Python 3",
      "name": "python3"
    },
    "language_info": {
      "codemirror_mode": {
        "name": "ipython",
        "version": 3
      },
      "file_extension": ".py",
      "mimetype": "text/x-python",
      "name": "python",
      "nbconvert_exporter": "python",
      "pygments_lexer": "ipython3",
      "version": "3.13.7"
    }
  },
  "nbformat": 4,
  "nbformat_minor": 0
}
